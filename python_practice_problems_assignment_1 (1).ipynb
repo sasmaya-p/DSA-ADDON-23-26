{
  "nbformat": 4,
  "nbformat_minor": 0,
  "metadata": {
    "colab": {
      "provenance": []
    },
    "kernelspec": {
      "name": "python3",
      "display_name": "Python 3"
    },
    "language_info": {
      "name": "python"
    }
  },
  "cells": [
    {
      "cell_type": "markdown",
      "source": [
        "***QUESTION 1***"
      ],
      "metadata": {
        "id": "YiHsNNkhVp6o"
      }
    },
    {
      "cell_type": "code",
      "execution_count": null,
      "metadata": {
        "colab": {
          "base_uri": "https://localhost:8080/"
        },
        "id": "c17mXYX9VOax",
        "outputId": "8d69441d-1f76-4c9d-972b-5f4a29bd657f"
      },
      "outputs": [
        {
          "output_type": "stream",
          "name": "stdout",
          "text": [
            "enter the length of rectangle:15\n",
            "enter the breadth of rectangle:10\n",
            "area of the rectangle: 150.0\n"
          ]
        }
      ],
      "source": [
        "#Area of Rectangle\n",
        "l=float(input(\"enter the length of rectangle:\"))          #length can be in decimals so using float\n",
        "b=float(input(\"enter the breadth of rectangle:\"))        #breadth also can be of float datatype\n",
        "area=l*b                                                                       #providing the sufficient formula\n",
        "print(\"area of the rectangle:\",area)                              #displaying output\n",
        "\n"
      ]
    },
    {
      "cell_type": "markdown",
      "source": [
        "***QUESTION 2***"
      ],
      "metadata": {
        "id": "dvkOISsFXe2H"
      }
    },
    {
      "cell_type": "code",
      "source": [
        "#A BASIC CALCULATOR\n",
        "#RECEIVING INPUT FROM THE USER\n",
        "a=float(input(\"enter the first number:\"))\n",
        "b=float(input(\"enter the second number:\"))\n",
        "s=a+b                                                           #sum\n",
        "if a>b:                                                          #difference with condition 1\n",
        "  d=a-b\n",
        "else:                                                            #difference with condition 2\n",
        "  d=b-a\n",
        "m=a*b                                                        #product\n",
        "if a>b:                                                          #finding quotient by using if else statementss to specify\n",
        "  q=a/b                                                             #the condition\n",
        "else:\n",
        "  q=b/a\n",
        "#printing the output\n",
        "print(\"sum:\",s)\n",
        "print(\"difference:\",d)\n",
        "print(\"product:\",m)\n",
        "print(\"quotient:\",q)\n"
      ],
      "metadata": {
        "colab": {
          "base_uri": "https://localhost:8080/"
        },
        "id": "kl5uM9QIXIe9",
        "outputId": "fa1cb57f-e62d-4f73-ead0-472401634b09"
      },
      "execution_count": null,
      "outputs": [
        {
          "output_type": "stream",
          "name": "stdout",
          "text": [
            "enter the first number:5\n",
            "enter the second number:15\n",
            "sum: 20.0\n",
            "difference: 10.0\n",
            "product: 75.0\n",
            "quotient: 3.0\n"
          ]
        }
      ]
    },
    {
      "cell_type": "markdown",
      "source": [
        "***QUESTION 3***"
      ],
      "metadata": {
        "id": "WrOT2SOfgv8C"
      }
    },
    {
      "cell_type": "code",
      "source": [
        "#CONVERTING TEMPERATURE FROM ONE UNIT TO ANOTHER\n",
        "t=float(input(\"enter temperature:\"))                   #getting input\n",
        "#giving choices\n",
        "print(\"1:celcius to fahrenheit\")\n",
        "print(\"2: fahrenheit to celcius\")\n",
        "ch=int(input(\"enter your choice:\"))                   #asking user's choice\n",
        "if ch==1:                                                            #if ,elif and else conditions according to user's choice\n",
        "  t1=((9/5)*t)+32\n",
        "elif ch==2:\n",
        "  t1=(t-32)*(5/9)\n",
        "else:\n",
        "  print(\"invalid choice\")\n",
        "#displaying output\n",
        "print(\"required temperature:\",t1)\n",
        "\n"
      ],
      "metadata": {
        "colab": {
          "base_uri": "https://localhost:8080/"
        },
        "id": "gdmjSCTPgujH",
        "outputId": "216cdb1d-d791-4255-ebff-a4245364aaed"
      },
      "execution_count": null,
      "outputs": [
        {
          "output_type": "stream",
          "name": "stdout",
          "text": [
            "enter temperature:68\n",
            "1:celcius to farenheit\n",
            "2: farenheit to celcius\n",
            "enter your choice:2\n",
            "required temperature: 20.0\n"
          ]
        }
      ]
    },
    {
      "cell_type": "markdown",
      "source": [
        "***QUESTION 4***"
      ],
      "metadata": {
        "id": "vh92y5vapQ43"
      }
    },
    {
      "cell_type": "code",
      "source": [
        "#FINDING WHETHER THE NUMBER IS +ve,-ve or zero\n",
        "n=float(input(\"enter a number:\"))                    #asking for an input\n",
        "if n>0:                                                               #giving condition using if statement\n",
        "  print(n,\"is positive\")\n",
        "elif n<0:                                                          #use of elif statement\n",
        "  print(n,\"is negative\")\n",
        "else:                                                                #else statement\n",
        "  print(n,\"is zero\")\n"
      ],
      "metadata": {
        "colab": {
          "base_uri": "https://localhost:8080/"
        },
        "id": "UcThsvrJnbO4",
        "outputId": "64867c32-de42-4a8c-b6f7-674c9c2eb5e3"
      },
      "execution_count": null,
      "outputs": [
        {
          "output_type": "stream",
          "name": "stdout",
          "text": [
            "enter a number:0.0\n",
            "0.0 is zero\n"
          ]
        }
      ]
    },
    {
      "cell_type": "markdown",
      "source": [
        "***QUESTION 5***"
      ],
      "metadata": {
        "id": "KjvVD0qOqXoP"
      }
    },
    {
      "cell_type": "code",
      "source": [
        "#DETERMINING WHETHER THE GIVEN YEAR IS A LEAP YEAR OR NOT\n",
        "y=int(input(\"enter a year:\"))                     #input receiver\n",
        "if y%4==0 and y%100!=0:                         #if condition statements\n",
        "  print(y,\"is a leap year\")\n",
        "elif y%400==0:                                         #elif statement\n",
        "  print(y,\"is a leap year\")\n",
        "else:                                                         #else staement\n",
        "  print(y,\"not a leap year\")\n"
      ],
      "metadata": {
        "colab": {
          "base_uri": "https://localhost:8080/"
        },
        "id": "7u4AgPVEqODh",
        "outputId": "14b057c7-c685-4580-bf9e-933e51665824"
      },
      "execution_count": null,
      "outputs": [
        {
          "output_type": "stream",
          "name": "stdout",
          "text": [
            "enter a year:2020\n",
            "2020 is a leap year\n"
          ]
        }
      ]
    },
    {
      "cell_type": "markdown",
      "source": [
        "***QUESTION 6***"
      ],
      "metadata": {
        "id": "K1DXf7ai2wMT"
      }
    },
    {
      "cell_type": "code",
      "source": [
        "#DISPLAYING GRADE SCALE USING CONDITIONAL STATEMENTS\n",
        "m=float(input(\"enter the marks obtained:\"))            #seeking input from the user\n",
        "if m>=90 and m<=100:                                        #giving conditions using if,elif and else statements\n",
        "  print(\"A grade\")\n",
        "elif m>=80 and m<=89:                                    #using relational operators\n",
        "  print(\"B grade\")\n",
        "elif m>=70 and m<=79:\n",
        "  print(\"C grade\")\n",
        "elif m>=60 and m<=69:\n",
        "  print(\"D grade\")\n",
        "else:\n",
        "  print(\"F grade\")\n",
        "\n"
      ],
      "metadata": {
        "colab": {
          "base_uri": "https://localhost:8080/"
        },
        "id": "gS3ofYJE1Yjl",
        "outputId": "410116a9-8be5-4cfd-fc33-40554f9fb305"
      },
      "execution_count": null,
      "outputs": [
        {
          "output_type": "stream",
          "name": "stdout",
          "text": [
            "enter the marks obtained:65\n",
            "D grade\n"
          ]
        }
      ]
    },
    {
      "cell_type": "markdown",
      "source": [
        "***QUESTION 7***"
      ],
      "metadata": {
        "id": "muRX-Bkf4oK-"
      }
    },
    {
      "cell_type": "code",
      "source": [
        "#PRINT 10 TO 1\n",
        "for i in range(10,0,-1):            #USE FOR LOOP\n",
        "  print(i)                                   #DISPLAY OUTPUT\n"
      ],
      "metadata": {
        "colab": {
          "base_uri": "https://localhost:8080/"
        },
        "id": "uHLDFooC4lQs",
        "outputId": "ee8f8065-62bc-4107-d06f-196cb42039d3"
      },
      "execution_count": null,
      "outputs": [
        {
          "output_type": "stream",
          "name": "stdout",
          "text": [
            "10\n",
            "9\n",
            "8\n",
            "7\n",
            "6\n",
            "5\n",
            "4\n",
            "3\n",
            "2\n",
            "1\n"
          ]
        }
      ]
    },
    {
      "cell_type": "markdown",
      "source": [
        "***QUESTION 8***"
      ],
      "metadata": {
        "id": "awPIAXMY4-yk"
      }
    },
    {
      "cell_type": "code",
      "source": [
        "#PRINT EVEN NUMBERS FROM 1 TO 20 USING LOOPS\n",
        "for i in range(2,21,2):                  #use for loop and give step value 2 to print even numbers\n",
        "  print(i)\n",
        "\n",
        "\n"
      ],
      "metadata": {
        "colab": {
          "base_uri": "https://localhost:8080/"
        },
        "id": "h5fdQOV142IJ",
        "outputId": "0d4846d3-e9ad-4cae-fe47-4a592e856edb"
      },
      "execution_count": null,
      "outputs": [
        {
          "output_type": "stream",
          "name": "stdout",
          "text": [
            "2\n",
            "4\n",
            "6\n",
            "8\n",
            "10\n",
            "12\n",
            "14\n",
            "16\n",
            "18\n",
            "20\n"
          ]
        }
      ]
    },
    {
      "cell_type": "markdown",
      "source": [
        "***QUESTION 9***"
      ],
      "metadata": {
        "id": "UnCzTt1d6G5o"
      }
    },
    {
      "cell_type": "code",
      "source": [
        "#PRINT THE MULTIPLICATION TABLE\n",
        "n=int(input(\"enter a number:\"))\n",
        "for i in range(1,11):\n",
        "  print(n,\"*\",i,\"=\",i*n)\n",
        "\n",
        "\n",
        "\n"
      ],
      "metadata": {
        "colab": {
          "base_uri": "https://localhost:8080/"
        },
        "id": "u4Aug9BO52wH",
        "outputId": "23aedd53-afc6-4ac8-9f28-bc1ae83eeb2f"
      },
      "execution_count": null,
      "outputs": [
        {
          "output_type": "stream",
          "name": "stdout",
          "text": [
            "enter a number:5\n",
            "5 * 1 = 5\n",
            "5 * 2 = 10\n",
            "5 * 3 = 15\n",
            "5 * 4 = 20\n",
            "5 * 5 = 25\n",
            "5 * 6 = 30\n",
            "5 * 7 = 35\n",
            "5 * 8 = 40\n",
            "5 * 9 = 45\n",
            "5 * 10 = 50\n"
          ]
        }
      ]
    },
    {
      "cell_type": "code",
      "source": [],
      "metadata": {
        "id": "C5dd--dyAIfz"
      },
      "execution_count": null,
      "outputs": []
    }
  ]
}