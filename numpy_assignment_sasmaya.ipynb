{
  "nbformat": 4,
  "nbformat_minor": 0,
  "metadata": {
    "colab": {
      "provenance": []
    },
    "kernelspec": {
      "name": "python3",
      "display_name": "Python 3"
    },
    "language_info": {
      "name": "python"
    }
  },
  "cells": [
    {
      "cell_type": "markdown",
      "source": [
        "1. Create a NumPy array of integers from 1 to 10."
      ],
      "metadata": {
        "id": "CEcPjq_Ro11d"
      }
    },
    {
      "cell_type": "code",
      "execution_count": null,
      "metadata": {
        "id": "Tjq6Scj7osAS"
      },
      "outputs": [],
      "source": [
        "import numpy as np\n",
        "A=np.arange(1,11)"
      ]
    },
    {
      "cell_type": "code",
      "source": [
        "A"
      ],
      "metadata": {
        "colab": {
          "base_uri": "https://localhost:8080/"
        },
        "id": "GGNqJCh1pCzg",
        "outputId": "febf7cd7-721d-4488-85c0-63babd4b02ab"
      },
      "execution_count": null,
      "outputs": [
        {
          "output_type": "execute_result",
          "data": {
            "text/plain": [
              "array([ 1,  2,  3,  4,  5,  6,  7,  8,  9, 10])"
            ]
          },
          "metadata": {},
          "execution_count": 2
        }
      ]
    },
    {
      "cell_type": "markdown",
      "source": [
        "2.Create a 2x3 NumPy array filled with zeros"
      ],
      "metadata": {
        "id": "CnObE_pWpLDU"
      }
    },
    {
      "cell_type": "code",
      "source": [
        "A=np.zeros((2,3))\n",
        "A"
      ],
      "metadata": {
        "colab": {
          "base_uri": "https://localhost:8080/"
        },
        "id": "untLNS2KpF91",
        "outputId": "987339ce-6ee3-475c-83ca-a4ca469459ec"
      },
      "execution_count": null,
      "outputs": [
        {
          "output_type": "execute_result",
          "data": {
            "text/plain": [
              "array([[0., 0., 0.],\n",
              "       [0., 0., 0.]])"
            ]
          },
          "metadata": {},
          "execution_count": 7
        }
      ]
    },
    {
      "cell_type": "markdown",
      "source": [
        "3.Create a NumPy array of even numbers from 2 to 20."
      ],
      "metadata": {
        "id": "VHurX2_Hpu2s"
      }
    },
    {
      "cell_type": "code",
      "source": [
        "B=np.arange(2,21,2)\n",
        "B"
      ],
      "metadata": {
        "colab": {
          "base_uri": "https://localhost:8080/"
        },
        "id": "2P_1W0bPpnlq",
        "outputId": "54e2683b-3291-4aaa-9e15-145ee51651c6"
      },
      "execution_count": null,
      "outputs": [
        {
          "output_type": "execute_result",
          "data": {
            "text/plain": [
              "array([ 2,  4,  6,  8, 10, 12, 14, 16, 18, 20])"
            ]
          },
          "metadata": {},
          "execution_count": 9
        }
      ]
    },
    {
      "cell_type": "markdown",
      "source": [
        "4.Given two NumPy arrays, arr1 = np.array([1, 2, 3]) and arr2 = np.array([4,\n",
        "5, 6]), perform element-wise addition, subtraction, multiplication, and\n",
        "division between the two arrays."
      ],
      "metadata": {
        "id": "I0o8RRv_p5jM"
      }
    },
    {
      "cell_type": "code",
      "source": [
        "arr1 = np.array([1, 2, 3])\n",
        "arr2 = np.array([4, 5, 6])\n",
        "arr=arr1+arr2\n",
        "arr3=arr2-arr1\n",
        "arr4=arr1*arr2\n",
        "arr5=arr1/arr2\n",
        "print(arr)\n",
        "print(arr3)\n",
        "print(arr4)\n",
        "print(arr5)\n",
        "\n"
      ],
      "metadata": {
        "colab": {
          "base_uri": "https://localhost:8080/"
        },
        "id": "9BGsJQ8rp1YU",
        "outputId": "c980503e-3a5d-450a-d068-810f660c02b2"
      },
      "execution_count": null,
      "outputs": [
        {
          "output_type": "stream",
          "name": "stdout",
          "text": [
            "[5 7 9]\n",
            "[3 3 3]\n",
            "[ 4 10 18]\n",
            "[0.25 0.4  0.5 ]\n"
          ]
        }
      ]
    },
    {
      "cell_type": "markdown",
      "source": [
        "6. Reshape a 1D NumPy array of 12 random elements into a 2D array with a\n",
        "shape of (3, 4)."
      ],
      "metadata": {
        "id": "HG2EUQKwwPso"
      }
    },
    {
      "cell_type": "code",
      "source": [
        "ar=np.array([15,16,12,14,11,10,8,9,17,20,21,22])\n",
        "ar1=ar.reshape(3,4)\n",
        "ar1"
      ],
      "metadata": {
        "colab": {
          "base_uri": "https://localhost:8080/"
        },
        "id": "71H3kcn7r5L9",
        "outputId": "a5ee4d02-3937-4a01-a81c-83174f7ee885"
      },
      "execution_count": null,
      "outputs": [
        {
          "output_type": "execute_result",
          "data": {
            "text/plain": [
              "array([[15, 16, 12, 14],\n",
              "       [11, 10,  8,  9],\n",
              "       [17, 20, 21, 22]])"
            ]
          },
          "metadata": {},
          "execution_count": 26
        }
      ]
    },
    {
      "cell_type": "markdown",
      "source": [
        "7.Given a NumPy array arr = np.array([1, 2, 3, 4, 5]), square each element in\n",
        "the array using NumPy functions."
      ],
      "metadata": {
        "id": "8bmTPAvxwsmV"
      }
    },
    {
      "cell_type": "code",
      "source": [
        "import numpy as np"
      ],
      "metadata": {
        "id": "PSrUP5WTA5gi"
      },
      "execution_count": 107,
      "outputs": []
    },
    {
      "cell_type": "code",
      "source": [
        "arr = np.array([1, 2, 3, 4, 5])\n",
        "arr1=arr*arr\n",
        "arr1"
      ],
      "metadata": {
        "id": "Bs1uyKO_wkxW",
        "colab": {
          "base_uri": "https://localhost:8080/"
        },
        "outputId": "00a65688-5c76-45b9-eabf-394ee8ef2fa0"
      },
      "execution_count": null,
      "outputs": [
        {
          "output_type": "execute_result",
          "data": {
            "text/plain": [
              "array([ 1,  4,  9, 16, 25])"
            ]
          },
          "metadata": {},
          "execution_count": 7
        }
      ]
    },
    {
      "cell_type": "markdown",
      "source": [
        "8.Create a 5x5 identity matrix using NumPy."
      ],
      "metadata": {
        "id": "L4SqACjoBOqY"
      }
    },
    {
      "cell_type": "code",
      "source": [
        "arr=np.eye(5,5)\n",
        "arr"
      ],
      "metadata": {
        "colab": {
          "base_uri": "https://localhost:8080/"
        },
        "id": "dVUWgvMPBN2i",
        "outputId": "4e9891a5-7b76-4097-f7cb-845528aa2504"
      },
      "execution_count": null,
      "outputs": [
        {
          "output_type": "execute_result",
          "data": {
            "text/plain": [
              "array([[1., 0., 0., 0., 0.],\n",
              "       [0., 1., 0., 0., 0.],\n",
              "       [0., 0., 1., 0., 0.],\n",
              "       [0., 0., 0., 1., 0.],\n",
              "       [0., 0., 0., 0., 1.]])"
            ]
          },
          "metadata": {},
          "execution_count": 10
        }
      ]
    },
    {
      "cell_type": "markdown",
      "source": [
        "9.Calculate the dot product of two NumPy arrays, a = np.array([1, 2, 3]) and\n",
        "b = np.array([4, 5, 6])."
      ],
      "metadata": {
        "id": "gxvLfubuCqbN"
      }
    },
    {
      "cell_type": "code",
      "source": [
        "a=np.array([1,2,3])\n",
        "a"
      ],
      "metadata": {
        "id": "Dv58EB4VEx1_",
        "colab": {
          "base_uri": "https://localhost:8080/"
        },
        "outputId": "a685c0b0-1f77-410c-dc9b-0918889f2c6a"
      },
      "execution_count": 3,
      "outputs": [
        {
          "output_type": "execute_result",
          "data": {
            "text/plain": [
              "array([1, 2, 3])"
            ]
          },
          "metadata": {},
          "execution_count": 3
        }
      ]
    },
    {
      "cell_type": "code",
      "source": [
        "b=np.array([4,5,6])\n",
        "b"
      ],
      "metadata": {
        "colab": {
          "base_uri": "https://localhost:8080/"
        },
        "id": "v_DisCE3Jn8S",
        "outputId": "355ca70f-b395-4e4c-87c1-880c1520e837"
      },
      "execution_count": 4,
      "outputs": [
        {
          "output_type": "execute_result",
          "data": {
            "text/plain": [
              "array([4, 5, 6])"
            ]
          },
          "metadata": {},
          "execution_count": 4
        }
      ]
    },
    {
      "cell_type": "code",
      "source": [
        "a.dot(b)"
      ],
      "metadata": {
        "colab": {
          "base_uri": "https://localhost:8080/"
        },
        "id": "tg0udi70JuSd",
        "outputId": "fcff9213-482f-456a-d91f-cc7425b6b3ff"
      },
      "execution_count": 8,
      "outputs": [
        {
          "output_type": "execute_result",
          "data": {
            "text/plain": [
              "32"
            ]
          },
          "metadata": {},
          "execution_count": 8
        }
      ]
    },
    {
      "cell_type": "markdown",
      "source": [
        "10.Find the index of the maximum value and the index of the minimum value\n",
        "in a NumPy array."
      ],
      "metadata": {
        "id": "F8hPtbn6KdMQ"
      }
    },
    {
      "cell_type": "code",
      "source": [
        "a=np.array([10,12,20,16,71,54,9,11])\n"
      ],
      "metadata": {
        "id": "nzMisX1bME_X"
      },
      "execution_count": null,
      "outputs": []
    },
    {
      "cell_type": "code",
      "source": [
        "a.argmax()\n",
        "\n"
      ],
      "metadata": {
        "colab": {
          "base_uri": "https://localhost:8080/"
        },
        "id": "CQl1H9GtNqQF",
        "outputId": "0d00feb0-c8d9-4c2e-d959-633ea30f2298"
      },
      "execution_count": 35,
      "outputs": [
        {
          "output_type": "execute_result",
          "data": {
            "text/plain": [
              "4"
            ]
          },
          "metadata": {},
          "execution_count": 35
        }
      ]
    },
    {
      "cell_type": "code",
      "source": [
        "a.argmin()"
      ],
      "metadata": {
        "colab": {
          "base_uri": "https://localhost:8080/"
        },
        "id": "xi7jMLfrN96Y",
        "outputId": "2bd50628-e22d-4aaa-8a56-90edaaaf2015"
      },
      "execution_count": 36,
      "outputs": [
        {
          "output_type": "execute_result",
          "data": {
            "text/plain": [
              "6"
            ]
          },
          "metadata": {},
          "execution_count": 36
        }
      ]
    },
    {
      "cell_type": "markdown",
      "source": [
        "11.Concatenate two random NumPy arrays horizontally and vertically"
      ],
      "metadata": {
        "id": "Lc8nUt_EPLHP"
      }
    },
    {
      "cell_type": "code",
      "source": [
        "a=np.array([[1,2,3,],[4,5,6]])\n",
        "a\n"
      ],
      "metadata": {
        "colab": {
          "base_uri": "https://localhost:8080/"
        },
        "id": "L_CQjcjUOW3b",
        "outputId": "193fde50-0c84-4ea8-fcf0-fb33c4a7413c"
      },
      "execution_count": 46,
      "outputs": [
        {
          "output_type": "execute_result",
          "data": {
            "text/plain": [
              "array([[1, 2, 3],\n",
              "       [4, 5, 6]])"
            ]
          },
          "metadata": {},
          "execution_count": 46
        }
      ]
    },
    {
      "cell_type": "code",
      "source": [
        "b=np.array([[9,8,7],[6,5,4]])\n",
        "b"
      ],
      "metadata": {
        "colab": {
          "base_uri": "https://localhost:8080/"
        },
        "id": "7bcUAkeTPU33",
        "outputId": "ea585bd5-db0a-4594-ce4c-31a851466a46"
      },
      "execution_count": 47,
      "outputs": [
        {
          "output_type": "execute_result",
          "data": {
            "text/plain": [
              "array([[9, 8, 7],\n",
              "       [6, 5, 4]])"
            ]
          },
          "metadata": {},
          "execution_count": 47
        }
      ]
    },
    {
      "cell_type": "code",
      "source": [
        "c=np.concatenate((a,b),axis=0)\n",
        "c"
      ],
      "metadata": {
        "colab": {
          "base_uri": "https://localhost:8080/"
        },
        "id": "VmTG8XS6PgVl",
        "outputId": "d8f8c562-e171-40df-a550-b52eded044f6"
      },
      "execution_count": 48,
      "outputs": [
        {
          "output_type": "execute_result",
          "data": {
            "text/plain": [
              "array([[1, 2, 3],\n",
              "       [4, 5, 6],\n",
              "       [9, 8, 7],\n",
              "       [6, 5, 4]])"
            ]
          },
          "metadata": {},
          "execution_count": 48
        }
      ]
    },
    {
      "cell_type": "code",
      "source": [
        "d=np.concatenate((a,b),axis=1)\n",
        "d"
      ],
      "metadata": {
        "colab": {
          "base_uri": "https://localhost:8080/"
        },
        "id": "LycXe20sPwll",
        "outputId": "c9b58ec0-4072-499a-8ae2-a9d12ca454f6"
      },
      "execution_count": 49,
      "outputs": [
        {
          "output_type": "execute_result",
          "data": {
            "text/plain": [
              "array([[1, 2, 3, 9, 8, 7],\n",
              "       [4, 5, 6, 6, 5, 4]])"
            ]
          },
          "metadata": {},
          "execution_count": 49
        }
      ]
    },
    {
      "cell_type": "markdown",
      "source": [
        "12.Given a 2D NumPy array, calculate the sum of each row and each column\n",
        "separately.\n"
      ],
      "metadata": {
        "id": "f9glegk1RBlf"
      }
    },
    {
      "cell_type": "code",
      "source": [
        "a=np.array([[1,2,3],[4,5,6],[7,8,9]])\n",
        "a"
      ],
      "metadata": {
        "colab": {
          "base_uri": "https://localhost:8080/"
        },
        "id": "3Xb5K7rBP8Dd",
        "outputId": "320d0fd2-dfbf-4d0f-fc8d-25c04ef73fc1"
      },
      "execution_count": 50,
      "outputs": [
        {
          "output_type": "execute_result",
          "data": {
            "text/plain": [
              "array([[1, 2, 3],\n",
              "       [4, 5, 6],\n",
              "       [7, 8, 9]])"
            ]
          },
          "metadata": {},
          "execution_count": 50
        }
      ]
    },
    {
      "cell_type": "code",
      "source": [
        "n=np.sum(a,axis=0)\n",
        "n"
      ],
      "metadata": {
        "colab": {
          "base_uri": "https://localhost:8080/"
        },
        "id": "6LZmuuqrUKuX",
        "outputId": "dbc59219-63d9-47a5-a42c-1677763ded32"
      },
      "execution_count": 63,
      "outputs": [
        {
          "output_type": "execute_result",
          "data": {
            "text/plain": [
              "array([12, 15, 18])"
            ]
          },
          "metadata": {},
          "execution_count": 63
        }
      ]
    },
    {
      "cell_type": "code",
      "source": [
        "n1=np.sum(a,axis=1)\n",
        "n1"
      ],
      "metadata": {
        "colab": {
          "base_uri": "https://localhost:8080/"
        },
        "id": "y9ePwLnRU9fV",
        "outputId": "696a6bef-d8ff-4b78-b1ad-e58f29886dcf"
      },
      "execution_count": 64,
      "outputs": [
        {
          "output_type": "execute_result",
          "data": {
            "text/plain": [
              "array([ 6, 15, 24])"
            ]
          },
          "metadata": {},
          "execution_count": 64
        }
      ]
    },
    {
      "cell_type": "markdown",
      "source": [
        "13.Find the common elements between two NumPy arrays"
      ],
      "metadata": {
        "id": "I1j5d2mPVYhp"
      }
    },
    {
      "cell_type": "code",
      "source": [
        "a=np.array([1,2,3,4,5,6,7,8,9])\n",
        "b=np.array([1,3,6,4,11,10,5,9,15])\n",
        "for i in a:\n",
        "  if i in b:\n",
        "    print(i)\n",
        "\n",
        "\n",
        "\n"
      ],
      "metadata": {
        "colab": {
          "base_uri": "https://localhost:8080/"
        },
        "id": "RgOmIup_VX_6",
        "outputId": "e45ed269-bff3-40cb-807a-4a824ca74a46"
      },
      "execution_count": 70,
      "outputs": [
        {
          "output_type": "stream",
          "name": "stdout",
          "text": [
            "1\n",
            "3\n",
            "4\n",
            "5\n",
            "6\n",
            "9\n"
          ]
        }
      ]
    },
    {
      "cell_type": "markdown",
      "source": [
        "14.Replace all negative values in a NumPy array with zeros."
      ],
      "metadata": {
        "id": "1Vk4v394WvGv"
      }
    },
    {
      "cell_type": "code",
      "source": [
        "a=np.array([1,-2,3,-4,5,-6,7,-8,9])\n",
        "a[a<0]=0\n",
        "print(a)\n"
      ],
      "metadata": {
        "colab": {
          "base_uri": "https://localhost:8080/"
        },
        "id": "viRxs4hwWukj",
        "outputId": "3a2d0f76-0fe5-428f-e033-f42919a9a81f"
      },
      "execution_count": 74,
      "outputs": [
        {
          "output_type": "stream",
          "name": "stdout",
          "text": [
            "[1 0 3 0 5 0 7 0 9]\n"
          ]
        }
      ]
    },
    {
      "cell_type": "markdown",
      "source": [
        "15.Create a NumPy array with random integers between 1 and 100 and then\n",
        "sort it in ascending order."
      ],
      "metadata": {
        "id": "txkUg2_ucH6e"
      }
    },
    {
      "cell_type": "code",
      "source": [
        "a=np.random.randint(1,101,10)\n",
        "a"
      ],
      "metadata": {
        "colab": {
          "base_uri": "https://localhost:8080/"
        },
        "id": "4RXoXXH9cHdh",
        "outputId": "b058c441-29a6-4c0d-c22e-54f5a09b6535"
      },
      "execution_count": 108,
      "outputs": [
        {
          "output_type": "execute_result",
          "data": {
            "text/plain": [
              "array([43, 47,  4, 24, 21, 18, 20, 30, 50, 82])"
            ]
          },
          "metadata": {},
          "execution_count": 108
        }
      ]
    },
    {
      "cell_type": "code",
      "source": [
        "a.sort()\n",
        "a"
      ],
      "metadata": {
        "colab": {
          "base_uri": "https://localhost:8080/"
        },
        "id": "yIEZGDLyTBUh",
        "outputId": "65c74539-4bb5-4abb-f7f6-e0f78191d701"
      },
      "execution_count": 109,
      "outputs": [
        {
          "output_type": "execute_result",
          "data": {
            "text/plain": [
              "array([ 4, 18, 20, 21, 24, 30, 43, 47, 50, 82])"
            ]
          },
          "metadata": {},
          "execution_count": 109
        }
      ]
    },
    {
      "cell_type": "markdown",
      "source": [
        "16.Calculate the element-wise absolute difference between two NumPy\n",
        "arrays."
      ],
      "metadata": {
        "id": "HCXTxPMCdDVa"
      }
    },
    {
      "cell_type": "code",
      "source": [
        "a=np.array([1,2,3,4,5,6,7,8,9])\n",
        "b=np.array([1,3,6,4,11,10,5,9,15])\n",
        "s=np.abs(a-b)\n",
        "s"
      ],
      "metadata": {
        "colab": {
          "base_uri": "https://localhost:8080/"
        },
        "id": "ziOqsyT5dC4l",
        "outputId": "ca8b3391-3d33-4bb6-b6c3-fcd42ccfe788"
      },
      "execution_count": 110,
      "outputs": [
        {
          "output_type": "execute_result",
          "data": {
            "text/plain": [
              "array([0, 1, 3, 0, 6, 4, 2, 1, 6])"
            ]
          },
          "metadata": {},
          "execution_count": 110
        }
      ]
    },
    {
      "cell_type": "markdown",
      "source": [
        "\n",
        "17.Given a 2D NumPy array, extract the first row and the last column."
      ],
      "metadata": {
        "id": "fdC5FBRueMTR"
      }
    },
    {
      "cell_type": "code",
      "source": [
        "a=np.array([[1,2,3],[4,5,6],[7,8,9]])\n",
        "a\n"
      ],
      "metadata": {
        "colab": {
          "base_uri": "https://localhost:8080/"
        },
        "id": "be6AyUoJeLvK",
        "outputId": "3d08dfbb-6477-4075-ad95-dcb16f1bd7f4"
      },
      "execution_count": 81,
      "outputs": [
        {
          "output_type": "execute_result",
          "data": {
            "text/plain": [
              "array([[1, 2, 3],\n",
              "       [4, 5, 6],\n",
              "       [7, 8, 9]])"
            ]
          },
          "metadata": {},
          "execution_count": 81
        }
      ]
    },
    {
      "cell_type": "code",
      "source": [
        "a[0]"
      ],
      "metadata": {
        "colab": {
          "base_uri": "https://localhost:8080/"
        },
        "id": "Yw9MXcy1eiGw",
        "outputId": "82fc728a-b3f0-43ee-83a3-143c9d6b6dd4"
      },
      "execution_count": 82,
      "outputs": [
        {
          "output_type": "execute_result",
          "data": {
            "text/plain": [
              "array([1, 2, 3])"
            ]
          },
          "metadata": {},
          "execution_count": 82
        }
      ]
    },
    {
      "cell_type": "code",
      "source": [
        "a[0:3,(2)]"
      ],
      "metadata": {
        "colab": {
          "base_uri": "https://localhost:8080/"
        },
        "id": "WbzF7FdkelZT",
        "outputId": "76c0e81d-e588-42fb-a380-08b67d9e8e50"
      },
      "execution_count": 83,
      "outputs": [
        {
          "output_type": "execute_result",
          "data": {
            "text/plain": [
              "array([3, 6, 9])"
            ]
          },
          "metadata": {},
          "execution_count": 83
        }
      ]
    },
    {
      "cell_type": "markdown",
      "source": [
        "18.Slice a 1D NumPy array to get every other element"
      ],
      "metadata": {
        "id": "n-dbqQnjewap"
      }
    },
    {
      "cell_type": "code",
      "source": [
        "a=np.array([1,2,3,4,5,6,7,8,9])\n",
        "a[0:9]"
      ],
      "metadata": {
        "colab": {
          "base_uri": "https://localhost:8080/"
        },
        "id": "qxwAmOu1etMD",
        "outputId": "ee021600-5b7e-4496-8673-52b3841d1f20"
      },
      "execution_count": 90,
      "outputs": [
        {
          "output_type": "execute_result",
          "data": {
            "text/plain": [
              "array([1, 2, 3, 4, 5, 6, 7, 8, 9])"
            ]
          },
          "metadata": {},
          "execution_count": 90
        }
      ]
    },
    {
      "cell_type": "markdown",
      "source": [
        "19.Given a 2D NumPy array, extract a subarray consisting of the central 2x2\n",
        "elements."
      ],
      "metadata": {
        "id": "tkxcHuBQfR4J"
      }
    },
    {
      "cell_type": "code",
      "source": [
        "a=np.array([[1,2,3,4],[5,6,7,8],[9,10,11,12],[13,14,15,16]])\n",
        "a"
      ],
      "metadata": {
        "colab": {
          "base_uri": "https://localhost:8080/"
        },
        "id": "4j2vDoi4e4si",
        "outputId": "a2fb4c9b-0f7d-432e-c676-07ef46d76816"
      },
      "execution_count": 91,
      "outputs": [
        {
          "output_type": "execute_result",
          "data": {
            "text/plain": [
              "array([[ 1,  2,  3,  4],\n",
              "       [ 5,  6,  7,  8],\n",
              "       [ 9, 10, 11, 12],\n",
              "       [13, 14, 15, 16]])"
            ]
          },
          "metadata": {},
          "execution_count": 91
        }
      ]
    },
    {
      "cell_type": "code",
      "source": [
        "a[1:3,(1,2)]"
      ],
      "metadata": {
        "colab": {
          "base_uri": "https://localhost:8080/"
        },
        "id": "wFzr8xF9ffAc",
        "outputId": "e852d718-8c38-40b5-82a2-604d6536c69d"
      },
      "execution_count": 93,
      "outputs": [
        {
          "output_type": "execute_result",
          "data": {
            "text/plain": [
              "array([[ 6,  7],\n",
              "       [10, 11]])"
            ]
          },
          "metadata": {},
          "execution_count": 93
        }
      ]
    },
    {
      "cell_type": "markdown",
      "source": [
        "20.Reverse a 1D NumPy array using slicing\n"
      ],
      "metadata": {
        "id": "4xH6gI-WfyRB"
      }
    },
    {
      "cell_type": "code",
      "source": [
        "a=np.array([1,2,3,4,5,6,7,8,9])\n",
        "a[::-1]"
      ],
      "metadata": {
        "colab": {
          "base_uri": "https://localhost:8080/"
        },
        "id": "yt_4DwIBfpKF",
        "outputId": "a2d245e5-8b55-46f0-cad5-07e35dbe00b3"
      },
      "execution_count": 96,
      "outputs": [
        {
          "output_type": "execute_result",
          "data": {
            "text/plain": [
              "array([9, 8, 7, 6, 5, 4, 3, 2, 1])"
            ]
          },
          "metadata": {},
          "execution_count": 96
        }
      ]
    },
    {
      "cell_type": "markdown",
      "source": [
        "\n",
        "5.Compute the mean, median, and standard deviation of a NumPy array\n",
        "containing 100 random numbers."
      ],
      "metadata": {
        "id": "1AjPrFnFgTMj"
      }
    },
    {
      "cell_type": "code",
      "source": [
        "a=np.random.rand(100)\n",
        "a"
      ],
      "metadata": {
        "colab": {
          "base_uri": "https://localhost:8080/"
        },
        "id": "eP-9CC0hf9i7",
        "outputId": "840b4b61-8df6-4585-b4c2-ba09157267e1"
      },
      "execution_count": 111,
      "outputs": [
        {
          "output_type": "execute_result",
          "data": {
            "text/plain": [
              "array([0.69517316, 0.05291889, 0.96258441, 0.65588637, 0.93843568,\n",
              "       0.32543161, 0.71272393, 0.40192822, 0.88328939, 0.13603042,\n",
              "       0.78156178, 0.02012698, 0.35248964, 0.93830251, 0.0489188 ,\n",
              "       0.98667265, 0.64270013, 0.28616265, 0.59069892, 0.30001715,\n",
              "       0.42598147, 0.65837622, 0.65044854, 0.39723362, 0.26176703,\n",
              "       0.13642573, 0.03665745, 0.93096271, 0.88101682, 0.54507603,\n",
              "       0.78864665, 0.55737252, 0.51806983, 0.88405695, 0.19804241,\n",
              "       0.05482426, 0.10636677, 0.91281991, 0.15918687, 0.17710588,\n",
              "       0.29146407, 0.67559949, 0.35032701, 0.45152022, 0.83856412,\n",
              "       0.414853  , 0.74007427, 0.2633341 , 0.31567905, 0.2604351 ,\n",
              "       0.76714307, 0.69427791, 0.0188461 , 0.79625948, 0.74979834,\n",
              "       0.72212603, 0.11791513, 0.83752145, 0.69945936, 0.27563554,\n",
              "       0.05312973, 0.93901741, 0.34726946, 0.64035728, 0.5920778 ,\n",
              "       0.5816183 , 0.14178265, 0.43001283, 0.00785733, 0.18447883,\n",
              "       0.56080545, 0.02308499, 0.21129249, 0.68785621, 0.00543786,\n",
              "       0.53086766, 0.9928048 , 0.90638818, 0.41522561, 0.04089347,\n",
              "       0.74515587, 0.66090561, 0.13045453, 0.43953065, 0.03947581,\n",
              "       0.58887815, 0.1013921 , 0.6958438 , 0.40558945, 0.44094322,\n",
              "       0.9377842 , 0.47490424, 0.87728111, 0.48909551, 0.730811  ,\n",
              "       0.74740093, 0.43882968, 0.35896736, 0.974484  , 0.7855112 ])"
            ]
          },
          "metadata": {},
          "execution_count": 111
        }
      ]
    },
    {
      "cell_type": "code",
      "source": [
        "a.mean()"
      ],
      "metadata": {
        "colab": {
          "base_uri": "https://localhost:8080/"
        },
        "id": "Sd3Vte3GgsDA",
        "outputId": "6a2c2181-42d0-475e-df59-2d1b79f1a6e0"
      },
      "execution_count": 112,
      "outputs": [
        {
          "output_type": "execute_result",
          "data": {
            "text/plain": [
              "0.49628820603873014"
            ]
          },
          "metadata": {},
          "execution_count": 112
        }
      ]
    },
    {
      "cell_type": "code",
      "source": [
        "import statistics\n",
        "statistics.median(a)"
      ],
      "metadata": {
        "colab": {
          "base_uri": "https://localhost:8080/"
        },
        "id": "Zs2L4IOtgu0j",
        "outputId": "5d5d1482-ffd9-4171-a94e-9ee0e5ba575c"
      },
      "execution_count": 113,
      "outputs": [
        {
          "output_type": "execute_result",
          "data": {
            "text/plain": [
              "0.503582668855767"
            ]
          },
          "metadata": {},
          "execution_count": 113
        }
      ]
    },
    {
      "cell_type": "code",
      "source": [
        "a.std()"
      ],
      "metadata": {
        "colab": {
          "base_uri": "https://localhost:8080/"
        },
        "id": "6CNauQJLg5mc",
        "outputId": "a616c8c8-2226-472b-f72d-4e4333cc209b"
      },
      "execution_count": 114,
      "outputs": [
        {
          "output_type": "execute_result",
          "data": {
            "text/plain": [
              "0.29796200620774305"
            ]
          },
          "metadata": {},
          "execution_count": 114
        }
      ]
    },
    {
      "cell_type": "code",
      "source": [],
      "metadata": {
        "id": "2UUfCadohkV_"
      },
      "execution_count": null,
      "outputs": []
    }
  ]
}