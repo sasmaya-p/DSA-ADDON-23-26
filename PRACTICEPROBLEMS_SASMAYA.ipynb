{
  "nbformat": 4,
  "nbformat_minor": 0,
  "metadata": {
    "colab": {
      "provenance": []
    },
    "kernelspec": {
      "name": "python3",
      "display_name": "Python 3"
    },
    "language_info": {
      "name": "python"
    }
  },
  "cells": [
    {
      "cell_type": "code",
      "execution_count": 5,
      "metadata": {
        "id": "azNNSw1jgVY4",
        "colab": {
          "base_uri": "https://localhost:8080/"
        },
        "outputId": "9988c7a7-6dad-4fd5-f1c8-47c708819b24"
      },
      "outputs": [
        {
          "output_type": "stream",
          "name": "stdout",
          "text": [
            "enter first number:2\n",
            "enter second number:3\n",
            "sum of two numbers 2 & 3 is: 5\n"
          ]
        }
      ],
      "source": [
        "a=int(input(\"enter first number:\"))\n",
        "b=int(input(\"enter second number:\"))\n",
        "s=a+b\n",
        "print(\"sum of two numbers\",a,\"&\",b,\"is:\",s)"
      ]
    },
    {
      "cell_type": "code",
      "source": [
        "a=int(input(\"enter first number:\"))\n",
        "b=int(input(\"enter second number:\"))\n",
        "p=a*b\n",
        "print(\"product of two numbers\",a,\"&\",b,\"is:\",p)"
      ],
      "metadata": {
        "colab": {
          "base_uri": "https://localhost:8080/"
        },
        "id": "J0Zqgmjjgm-0",
        "outputId": "2c9b9df2-a9ef-44ad-ba91-3138af9081f6"
      },
      "execution_count": null,
      "outputs": [
        {
          "output_type": "stream",
          "name": "stdout",
          "text": [
            "enter first number:2\n",
            "enter second number:3\n",
            "product of two numbers 2 & 3 is: 6\n"
          ]
        }
      ]
    },
    {
      "cell_type": "code",
      "source": [
        "a=int(input(\"enter first number:\"))\n",
        "b=int(input(\"enter second number:\"))\n",
        "q=a/b\n",
        "r=a%b\n",
        "print(\"quotient of two numbers\",a,\"&\",b,\"is:\",q)\n",
        "print(\"remainder of two numbers\",a,\"&\",b,\"is:\",r)\n"
      ],
      "metadata": {
        "colab": {
          "base_uri": "https://localhost:8080/"
        },
        "id": "JoSNf5bHhGOK",
        "outputId": "cf8f2f1e-0c80-4558-f226-ce88c82eff36"
      },
      "execution_count": null,
      "outputs": [
        {
          "output_type": "stream",
          "name": "stdout",
          "text": [
            "enter first number:15\n",
            "enter second number:2\n",
            "quotient of two numbers 15 & 2 is: 7.5\n",
            "remainder of two numbers 15 & 2 is: 1\n"
          ]
        }
      ]
    },
    {
      "cell_type": "code",
      "source": [
        "s=input(\"enter a string:\")\n",
        "n=len(s)\n",
        "print(\"length of the given string is:\",n)\n"
      ],
      "metadata": {
        "colab": {
          "base_uri": "https://localhost:8080/"
        },
        "id": "Lof1mWePhsAU",
        "outputId": "0cfe054d-7831-458d-c191-bc486fd0822d"
      },
      "execution_count": null,
      "outputs": [
        {
          "output_type": "stream",
          "name": "stdout",
          "text": [
            "enter a string:sasmaya\n",
            "length of the given string is: 7\n"
          ]
        }
      ]
    },
    {
      "cell_type": "code",
      "source": [
        "s=input(\"enter a string:\")\n",
        "p=input(\"enter the character whose no. of occurrences is needed:\")\n",
        "x=s.count(p)\n",
        "print(\"no.of occurrences of\",p,\"in\",s,\"is:\",x)\n",
        "\n"
      ],
      "metadata": {
        "colab": {
          "base_uri": "https://localhost:8080/"
        },
        "id": "tSgcpyLRiYcR",
        "outputId": "36efdc49-08f5-44c5-c898-19dc06d9b760"
      },
      "execution_count": null,
      "outputs": [
        {
          "output_type": "stream",
          "name": "stdout",
          "text": [
            "enter a string:sasmaya\n",
            "enter the character whose no. of occurrences is needed:a\n",
            "no.of occurrences of a in sasmaya is: 3\n"
          ]
        }
      ]
    },
    {
      "cell_type": "code",
      "source": [
        "s=input(\"enter a string:\")\n",
        "s1=s.upper()\n",
        "print(s1)"
      ],
      "metadata": {
        "colab": {
          "base_uri": "https://localhost:8080/"
        },
        "id": "Vman_Wdqig2x",
        "outputId": "c8c4eeba-6f0e-4261-be32-e717d41a3383"
      },
      "execution_count": null,
      "outputs": [
        {
          "output_type": "stream",
          "name": "stdout",
          "text": [
            "enter a string:sasmaya.p\n",
            "SASMAYA.P\n"
          ]
        }
      ]
    },
    {
      "cell_type": "code",
      "source": [
        "s=input(\"enter a string:\")\n",
        "s1=s.lower()\n",
        "print(s1)"
      ],
      "metadata": {
        "colab": {
          "base_uri": "https://localhost:8080/"
        },
        "id": "i9kh_lWrjolm",
        "outputId": "271dc974-481a-4689-a07d-5e7d03370f5f"
      },
      "execution_count": null,
      "outputs": [
        {
          "output_type": "stream",
          "name": "stdout",
          "text": [
            "enter a string:SASMAYA.P\n",
            "sasmaya.p\n"
          ]
        }
      ]
    },
    {
      "cell_type": "code",
      "source": [],
      "metadata": {
        "id": "YXLDJksTjy4Q"
      },
      "execution_count": null,
      "outputs": []
    }
  ]
}